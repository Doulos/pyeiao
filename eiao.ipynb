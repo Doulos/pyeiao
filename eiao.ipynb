{
 "cells": [
  {
   "cell_type": "markdown",
   "id": "61073446",
   "metadata": {},
   "source": [
    "<img src=\"https://www.doulos.com/media/1009/doulos-logo-header.svg\" alt=\"Doulos\" style=\"width: 150px;\" align=\"right\"/>\n",
    "\n",
    "# Python: Everything is an Object\n",
    "\n",
    "Webinar presented by **Dr. Des Howlett** & **Loïc Domaigné** <br/>\n",
    "Senior Members Technical Staff, Doulos\n",
    "\n",
    "Copyright (c) 2023 by Doulos."
   ]
  },
  {
   "cell_type": "markdown",
   "id": "b3974308",
   "metadata": {},
   "source": [
    "## License\n",
    "\n",
    "Licensed under the Apache License, Version 2.0 (the \"License\"); you may not use this file except in compliance with the License. You may obtain a copy of the License at:\n",
    "\n",
    "http://www.apache.org/licenses/LICENSE-2.0\n",
    "\n",
    "Unless required by applicable law or agreed to in writing, software distributed under the License is distributed on an \"AS IS\" BASIS, WITHOUT WARRANTIES OR CONDITIONS OF ANY KIND, either express or implied. See the License for the specific language governing permissions and limitations under the License."
   ]
  },
  {
   "cell_type": "markdown",
   "id": "4316a22b",
   "metadata": {},
   "source": [
    "## Getting Started\n",
    "\n",
    "### Working with Jupyter Notebook\n",
    "\n",
    "Jupyter notebook is quite intuitive to use. A notebook is composed of cells, which are either documentation (rendered as HTML) or python code.\n",
    "\n",
    "To execute a cell and move to the next cell, you can:\n",
    "- click on the Run icon in the toolbar.\n",
    "- OR press **Shift** + **ENTER**\n",
    "\n",
    "You can execute a cell and stay there by pressing **CTRL** + **ENTER**."
   ]
  },
  {
   "cell_type": "markdown",
   "id": "c15b5f94",
   "metadata": {},
   "source": [
    "### Python code visualization\n",
    "\n",
    "Our notebook uses the [nbtutor](https://pypi.org/project/nbtutor/) extension to visualize the python code execution.\n",
    "\n",
    "To enable nbtutor:\n",
    "- run the next cell to load the nbtutor jupyter extension.\n",
    "- add the magic cell command **%%nbtutor** on the first line of the cell.\n",
    "\n",
    "To use nbtutor, first run the cell in jupyter notebook as usual. This should trigger nbtutor. Click on the cell and start using nbtutor.\n",
    "\n",
    "You can toggle the visualization by clicking on the **toggle** icon in the toolbar. The icons ⏪ ◀️ ▶️ ⏩ next to the toggle icon can be using to navigate through the code (first/previous/next/last line).\n",
    "\n",
    "Please refer to the [project page](https://github.com/lgpage/nbtutor) for more details. "
   ]
  },
  {
   "cell_type": "code",
   "execution_count": null,
   "id": "db6b242c",
   "metadata": {},
   "outputs": [],
   "source": [
    "%load_ext nbtutor"
   ]
  },
  {
   "cell_type": "markdown",
   "id": "606b9824",
   "metadata": {},
   "source": [
    "## Why Python is Different?\n",
    "\n",
    "Every Python object has:\n",
    "- a value \n",
    "- a type. The type determines the operations the object supports.\n",
    "\n",
    "We can bind a name to an object using the assignment statement `=`."
   ]
  },
  {
   "cell_type": "code",
   "execution_count": null,
   "id": "e89f45f6",
   "metadata": {},
   "outputs": [],
   "source": [
    "%%nbtutor -rf\n",
    "#-rf means: clear all variables defined in previous cells ",
    "(to avoid cluttering the visualisation)\n",
    "\n",
    "x = 42\n",
    "y = x\n",
    "print(f'{x is y = }')"
   ]
  },
  {
   "cell_type": "markdown",
   "id": "5684661f",
   "metadata": {},
   "source": [
    "## What are the key points?\n",
    "\n",
    "> It's not the value that moves, it's the variable name! <br>\n",
    "> ~ Python Zen Koan\n",
    "\n",
    "It seems that the \"value\" is put into the variable...."
   ]
  },
  {
   "cell_type": "code",
   "execution_count": null,
   "id": "363488f3",
   "metadata": {},
   "outputs": [],
   "source": [
    "%%nbtutor -rf\n",
    "x = 42\n",
    "x += 10\n",
    "x = 'Hello'\n",
    "x += ', world!'"
   ]
  },
  {
   "cell_type": "markdown",
   "id": "460d99c7",
   "metadata": {},
   "source": [
    "... But a more accurate model, is that the variable moves around the objects, as shown in the example below:"
   ]
  },
  {
   "cell_type": "code",
   "execution_count": null,
   "id": "52273bec",
   "metadata": {},
   "outputs": [],
   "source": [
    "%%nbtutor -rf\n",
    "x = 42\n",
    "y = x\n",
    "x += 10\n",
    "z = x\n",
    "x = 'Hello'\n",
    "t = x\n",
    "x += ', world!'"
   ]
  },
  {
   "cell_type": "markdown",
   "id": "e4527577",
   "metadata": {},
   "source": [
    "## Why is it important?\n",
    "\n",
    "- assignment works \"as usual\" for basic type like int, str, bool, ... (immutable object).\n",
    "- care must be taken for mutable object: list, dict, set, custom objects.\n",
    "\n",
    "### Example 1"
   ]
  },
  {
   "cell_type": "code",
   "execution_count": null,
   "id": "1d1a46fd",
   "metadata": {},
   "outputs": [],
   "source": [
    "#%%nbtutor -rf\n",
    "x = [42]\n",
    "y = x    # appear to create a copy\n",
    "x = [10]\n",
    "print(f'{y = }')"
   ]
  },
  {
   "cell_type": "markdown",
   "id": "ccdf0737",
   "metadata": {},
   "source": [
    "### Example 2\n",
    "Same example, but changing the content of the list object"
   ]
  },
  {
   "cell_type": "code",
   "execution_count": null,
   "id": "3fef8a04",
   "metadata": {},
   "outputs": [],
   "source": [
    "#%%nbtutor -rf\n",
    "x = [42]\n",
    "y = x\n",
    "x[0] = -123\n",
    "print(f'{y = }')"
   ]
  },
  {
   "cell_type": "markdown",
   "id": "5a12be7b",
   "metadata": {},
   "source": [
    "### Explanations"
   ]
  },
  {
   "cell_type": "markdown",
   "id": "8e0f94b7",
   "metadata": {},
   "source": [
    "The \"mystery\" can be simply resolved, if we remember that `y=x` creates only a new label `y` for the object `x`:\n",
    "- Ex1: `x=[10]` moves \"x\" to the list `[10]` (y is still bound to `[42]`)\n",
    "- Ex2: `x[0]` changes the content of `x`, and so `y` since `x is y`."
   ]
  },
  {
   "cell_type": "code",
   "execution_count": null,
   "id": "e38315ff",
   "metadata": {},
   "outputs": [],
   "source": [
    "%%nbtutor -rf\n",
    "x = [42]\n",
    "y = x    # appear to create a copy\n",
    "x = [10]\n",
    "print(f'{y = }')"
   ]
  },
  {
   "cell_type": "code",
   "execution_count": null,
   "id": "56470fb5",
   "metadata": {},
   "outputs": [],
   "source": [
    "%%nbtutor -rf\n",
    "\n",
    "x = [42]\n",
    "y = x\n",
    "x[0] = -123\n",
    "print(f'{y = }')"
   ]
  },
  {
   "cell_type": "markdown",
   "id": "7fc75a95",
   "metadata": {},
   "source": [
    "## Reference counts and Garbage Collector\n",
    "\n",
    "- Every object has a reference counter\n",
    "- This counter is used to detect if an object can be recycled"
   ]
  },
  {
   "cell_type": "code",
   "execution_count": null,
   "id": "4a6e67fc",
   "metadata": {},
   "outputs": [],
   "source": [
    "import sys\n",
    "\n",
    "x = [42]\n",
    "nref = sys.getrefcount(x)\n",
    "print(f'{nref = }')"
   ]
  },
  {
   "cell_type": "code",
   "execution_count": null,
   "id": "f2b7579a",
   "metadata": {},
   "outputs": [],
   "source": [
    "y = x \n",
    "nref = sys.getrefcount(x)\n",
    "print(f'{nref = }')"
   ]
  },
  {
   "cell_type": "code",
   "execution_count": null,
   "id": "aac6b316",
   "metadata": {},
   "outputs": [],
   "source": [
    "del y\n",
    "nref = sys.getrefcount(x)\n",
    "print(f'{nref = }')"
   ]
  },
  {
   "cell_type": "markdown",
   "id": "8880a48d",
   "metadata": {},
   "source": [
    "## Other Name Bindings  "
   ]
  },
  {
   "cell_type": "markdown",
   "id": "8b577354",
   "metadata": {},
   "source": [
    "- Function definition \n",
    "- Class definition \n",
    "- Import statement\n",
    "- Targets (for, with, except clauses...)"
   ]
  },
  {
   "cell_type": "code",
   "execution_count": null,
   "id": "f8bf7d00",
   "metadata": {},
   "outputs": [],
   "source": [
    "%%nbtutor -rf\n",
    "import math\n",
    "\n",
    "def f(a,b,c):\n",
    "    s = a+b+c\n",
    "    return s\n",
    "\n",
    "\n",
    "class Foo:\n",
    "    version = \"0.1\"\n",
    "    \n",
    "    def hi(self):\n",
    "        print('Hi, how are you?')\n"
   ]
  },
  {
   "cell_type": "markdown",
   "id": "f73b32ee",
   "metadata": {},
   "source": [
    "## First Order Objects"
   ]
  },
  {
   "cell_type": "markdown",
   "id": "b7ba9586",
   "metadata": {},
   "source": [
    "Since **math**, **f** and **Foo** are name bindings, we can:\n",
    "- do assignments for any regular objects, like int or str.\n",
    "- pass them around\n",
    "- return them from functions\n",
    "- ...\n",
    "\n",
    "In short, classes, functions, modules can be treated as regular data!!"
   ]
  },
  {
   "cell_type": "code",
   "execution_count": null,
   "id": "80518bef",
   "metadata": {},
   "outputs": [],
   "source": [
    "#%%nbtutor \n",
    "sum_all = f\n",
    "print(f'{sum_all(1,2,3) = }')\n",
    "\n",
    "Bar = Foo\n",
    "b = Bar()\n",
    "b.hi()\n",
    "\n",
    "def get_math_module():\n",
    "    import math\n",
    "    return math\n",
    "\n",
    "m = get_math_module()\n",
    "print(f'{m.pi = }')"
   ]
  },
  {
   "cell_type": "markdown",
   "id": "41e9b25f",
   "metadata": {},
   "source": [
    "## Function Calls and Frame Objects"
   ]
  },
  {
   "cell_type": "markdown",
   "id": "f25256e1",
   "metadata": {},
   "source": [
    "- The definition creates a function object\n",
    "- The function name is bound to that function object\n",
    "- When the function is called: a frame object is created\n",
    "- The formal parameters are local variables to that frame object, bound to the objects passed to the function"
   ]
  },
  {
   "cell_type": "code",
   "execution_count": null,
   "id": "c6be5cde",
   "metadata": {},
   "outputs": [],
   "source": [
    "%%nbtutor -rf\n",
    "def f(a,b,c):\n",
    "    s = a+b+c\n",
    "    return s\n",
    "\n",
    "x = f(1,2,3)\n",
    "print(f'{ x = }')"
   ]
  },
  {
   "cell_type": "markdown",
   "id": "e7005055",
   "metadata": {},
   "source": [
    "### Nested Calls\n",
    "- A frame object gets created at each call. \n",
    "- Once the call completes, the garbage collector recycles that frame object (no ones is referring it anymore)"
   ]
  },
  {
   "cell_type": "code",
   "execution_count": null,
   "id": "40cf851f",
   "metadata": {},
   "outputs": [],
   "source": [
    "%%nbtutor -rf\n",
    "def second(x):\n",
    "    print(f'second called, {x=}')\n",
    "    return x\n",
    "\n",
    "def first(n):\n",
    "    print(f'first called, {n=}')\n",
    "    v = n*second('You')\n",
    "    return v\n",
    "\n",
    "r = first(3)\n",
    "print(f'{r = }')"
   ]
  },
  {
   "cell_type": "markdown",
   "id": "d92c8193",
   "metadata": {},
   "source": [
    "Of course, recursive functions work the same way:"
   ]
  },
  {
   "cell_type": "code",
   "execution_count": null,
   "id": "8b96fb9c",
   "metadata": {},
   "outputs": [],
   "source": [
    "%%nbtutor -rf -d 5\n",
    "def factorial(n):\n",
    "    if n<2:\n",
    "        return 1\n",
    "    return n*factorial(n-1)\n",
    "\n",
    "v = factorial(5)\n",
    "print(f'{v = }')"
   ]
  },
  {
   "cell_type": "markdown",
   "id": "67b8e6aa",
   "metadata": {},
   "source": [
    "### \"Grabing\" the function frame\n"
   ]
  },
  {
   "cell_type": "markdown",
   "id": "adabb6e4",
   "metadata": {},
   "source": [
    "In this example, we create a new binding `f_frame` to the current frame. It results that the \"function frame\", including all local variables, still exists after the function has completed."
   ]
  },
  {
   "cell_type": "code",
   "execution_count": null,
   "id": "496bfba9",
   "metadata": {},
   "outputs": [],
   "source": [
    "%%nbtutor -rf \n",
    "import inspect\n",
    "\n",
    "def f(a,b,c):\n",
    "    global f_frame\n",
    "    f_frame = inspect.currentframe()\n",
    "    s = a+b+c\n",
    "    return s\n",
    "\n",
    "x = f(1,2,3)\n",
    "print(f_frame.f_locals)"
   ]
  },
  {
   "cell_type": "markdown",
   "id": "64e3be27",
   "metadata": {},
   "source": [
    "## Generator"
   ]
  },
  {
   "cell_type": "code",
   "execution_count": null,
   "id": "4b081979",
   "metadata": {},
   "outputs": [],
   "source": [
    "def my_generator():\n",
    "    print(\"> Start\")\n",
    "    yield 101\n",
    "    print(\"> Middle\")\n",
    "    yield 102\n",
    "    print(\"> End\")\n",
    "    yield 103\n",
    "    \n",
    "g = my_generator()\n",
    "type(g)"
   ]
  },
  {
   "cell_type": "markdown",
   "id": "74de4af5",
   "metadata": {},
   "source": [
    "Looking under the bonet:\n",
    "- `g=my_generator()` creates a generator object\n",
    "- this object has a function frame embedded in it\n",
    "- it has all execution context information (generator is running, return and resume address...)\n",
    "\n",
    "Calling `next()` runs the generator code from the last point yield until the next yield statement."
   ]
  },
  {
   "cell_type": "code",
   "execution_count": null,
   "id": "e2f189f0",
   "metadata": {},
   "outputs": [],
   "source": [
    "def show_frame():\n",
    "    print('gi_running = ',g.gi_running)\n",
    "    print('frame.f_back   = ', g.gi_frame.f_back)\n",
    "    print('frame.f_lineno = ', g.gi_frame.f_lineno)"
   ]
  },
  {
   "cell_type": "code",
   "execution_count": null,
   "id": "72a4d488",
   "metadata": {},
   "outputs": [],
   "source": [
    "def my_generator():\n",
    "    print(\"> Start\")\n",
    "    show_frame()\n",
    "    yield 101\n",
    "    print(\"> Middle\")\n",
    "    show_frame()\n",
    "    yield 102\n",
    "    print(\"> End\")\n",
    "    show_frame()\n",
    "    yield 103\n",
    "\n",
    "g = my_generator()\n",
    "print(20*'-','\\n1st call: next(g)')\n",
    "v = next(g)\n",
    "print(f'---\\n{v=}')\n",
    "show_frame()\n",
    "\n",
    "print('\\n'+20*'-','\\n2nd call: next(g)')\n",
    "v = next(g)\n",
    "print(f'---\\n{v=}')\n",
    "show_frame()\n",
    "\n",
    "print('\\n'+20*'-','\\n3rd call: next(g)')\n",
    "v = next(g)\n",
    "print(f'---\\n{v=}')\n",
    "show_frame()"
   ]
  },
  {
   "cell_type": "markdown",
   "id": "9bb4fa75",
   "metadata": {},
   "source": [
    "## Decorator\n",
    "\n",
    "We can return a \"decorated version\" of a function by calling **simple_decorator()**."
   ]
  },
  {
   "cell_type": "code",
   "execution_count": null,
   "id": "19666db0",
   "metadata": {},
   "outputs": [],
   "source": [
    "#%%nbtutor -rf\n",
    "def simple_decorator(client):\n",
    "    \n",
    "    def wrapper():\n",
    "        print(f\"decorating {client.__name__}()\")\n",
    "        client()\n",
    "        \n",
    "    return wrapper\n",
    "\n",
    "\n",
    "def f():\n",
    "    print(\"I'm f\")\n",
    " \n",
    "f()\n",
    "print()\n",
    "\n",
    "g = simple_decorator(f)\n",
    "g()"
   ]
  },
  {
   "cell_type": "markdown",
   "id": "efbdc206",
   "metadata": {},
   "source": [
    "We can replace **f** by its decorated version **simple_decorator(f)**"
   ]
  },
  {
   "cell_type": "code",
   "execution_count": null,
   "id": "d81ff693",
   "metadata": {},
   "outputs": [],
   "source": [
    "#%%nbtutor\n",
    "def f():\n",
    "    print(\"I'm f\")\n",
    "    \n",
    "f = simple_decorator(f)\n",
    "f()"
   ]
  },
  {
   "cell_type": "markdown",
   "id": "11d805b4",
   "metadata": {},
   "source": [
    "## @decorator"
   ]
  },
  {
   "cell_type": "code",
   "execution_count": null,
   "id": "909b6055",
   "metadata": {},
   "outputs": [],
   "source": [
    "@simple_decorator\n",
    "def mytest():\n",
    "    print(\"Does it work?\")  \n",
    "\n",
    "\n",
    "mytest()"
   ]
  },
  {
   "cell_type": "markdown",
   "id": "fd07c915",
   "metadata": {},
   "source": [
    "<div class=\"alert alert-warning\">\n",
    "<b>NOTE</b>: Our simple decorator can only decorate function without parameters. It is possible to create more generic decorator, that can decorate any function.\n",
    "</div>"
   ]
  },
  {
   "cell_type": "markdown",
   "id": "638359b4",
   "metadata": {},
   "source": [
    "## Extra Bonus: Closure"
   ]
  },
  {
   "cell_type": "markdown",
   "id": "876cdb44",
   "metadata": {},
   "source": [
    "When we return the `wrapper()` function from `simple_decorator()`, how does it know which client to call? In fact, this \"context information\" - called the **closure** - is returned along with the wrapper.\n",
    "\n",
    "Let's illustrate with a simplified example:"
   ]
  },
  {
   "cell_type": "code",
   "execution_count": null,
   "id": "7e7bcd10",
   "metadata": {},
   "outputs": [],
   "source": [
    "#%%nbtutor -rf \n",
    "def multiply_by_(n):\n",
    "    def scale(x):\n",
    "        return n*x\n",
    "    return scale \n",
    "\n",
    "f = multiply_by_(4) # 4*x\n",
    "g = multiply_by_(2) # 5*2\n",
    "print(f'{f(3) = }')\n",
    "print(f'{g(5) = }')"
   ]
  },
  {
   "cell_type": "markdown",
   "id": "c4401721",
   "metadata": {},
   "source": [
    "Somehow the function `scale()` returned knows that:\n",
    "- `f()` should use \"n=4\", \n",
    "- `g()` should use \"n=5\".\n",
    "\n",
    "The object bound by **n** gets returned with `scale()`. This is the **closure of scale()**."
   ]
  },
  {
   "cell_type": "code",
   "execution_count": null,
   "id": "ec5024ae",
   "metadata": {},
   "outputs": [],
   "source": [
    "import inspect\n",
    "print(\"closure for f:\\n\",inspect.getclosurevars(f))\n",
    "print(\"\\nclosure for g:\\n\", inspect.getclosurevars(g))"
   ]
  },
  {
   "cell_type": "markdown",
   "id": "0b26363c",
   "metadata": {},
   "source": [
    "<div class=\"alert-success\">\n",
    "    <h2> Want to learn more? </h2>\n",
    "\n",
    "Check out our Doulos Python training offers and **get project ready** in record time :) \n",
    "\n",
    "* [Essential Python](https://www.doulos.com/training/scripting-languages-and-utilities/python/essential-python-online/): <br>\n",
    "If you are familiar with a programming language (C/C++, VHDL, UVM, ...), and want to get up to speed with Python quickly.  <br/> <br/>\n",
    "* [Expert Product Development with Python](https://www.doulos.com/training/scripting-languages-and-utilities/python/expert-product-development-with-python-online/): <br>\n",
    "If you liked this webnar and want to continue deep diving into Python.\n",
    "</div>"
   ]
  },
  {
   "cell_type": "markdown",
   "id": "c1f7df2c",
   "metadata": {},
   "source": [
    "# THE END."
   ]
  }
 ],
 "metadata": {
  "kernelspec": {
   "display_name": "Python 3 (ipykernel)",
   "language": "python",
   "name": "python3"
  },
  "language_info": {
   "codemirror_mode": {
    "name": "ipython",
    "version": 3
   },
   "file_extension": ".py",
   "mimetype": "text/x-python",
   "name": "python",
   "nbconvert_exporter": "python",
   "pygments_lexer": "ipython3",
   "version": "3.10.11"
  }
 },
 "nbformat": 4,
 "nbformat_minor": 5
}
